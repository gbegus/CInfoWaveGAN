{
 "cells": [
  {
   "cell_type": "code",
   "execution_count": 1,
   "metadata": {},
   "outputs": [],
   "source": [
    "import numpy as np"
   ]
  },
  {
   "cell_type": "code",
   "execution_count": 2,
   "metadata": {},
   "outputs": [],
   "source": [
    "# simulate relevant cli arguments from ciwgan\n",
    "\n",
    "class Namespace:\n",
    "    def __init__(self, **kwargs):\n",
    "        self.__dict__.update(kwargs)\n",
    "\n",
    "args = Namespace(train_batch_size = 5, num_categ = 3)"
   ]
  },
  {
   "cell_type": "markdown",
   "metadata": {},
   "source": [
    "### Approach 1\n",
    "This approach doesn't distingish between the order of the words (e.g. \"greasy water\" vs \"water greasy\"), but the lower dimensionality may help with training"
   ]
  },
  {
   "cell_type": "code",
   "execution_count": 3,
   "metadata": {},
   "outputs": [],
   "source": [
    "def random_c():\n",
    "    c = np.zeros((args.train_batch_size, args.num_categ))\n",
    "    for _ in range(2):\n",
    "        idxs = np.random.randint(args.num_categ, size=args.train_batch_size)\n",
    "        c[np.arange(args.train_batch_size), idxs] = 1\n",
    "\n",
    "    return c"
   ]
  },
  {
   "cell_type": "code",
   "execution_count": 4,
   "metadata": {},
   "outputs": [
    {
     "name": "stdout",
     "output_type": "stream",
     "text": [
      "[[1. 1. 0.]\n",
      " [0. 1. 1.]\n",
      " [1. 1. 0.]\n",
      " [1. 0. 1.]\n",
      " [0. 1. 0.]]\n"
     ]
    }
   ],
   "source": [
    "print(random_c())"
   ]
  },
  {
   "cell_type": "markdown",
   "metadata": {},
   "source": [
    "### Approach 2\n",
    "This approaches encodes the order by doubling the code length, n.b. in the arguments, num_categ should be set to double the number of unique words"
   ]
  },
  {
   "cell_type": "code",
   "execution_count": 65,
   "metadata": {},
   "outputs": [],
   "source": [
    "args.num_categ = 6\n",
    "\n",
    "def random_c():\n",
    "    assert args.num_categ % 2 == 0, \"num_categ should be double the number of unique words\"\n",
    "    \n",
    "    c = np.zeros((args.train_batch_size, args.num_categ))\n",
    "    idxs = np.random.randint(args.num_categ//2, size=(2, args.train_batch_size))\n",
    "    #adjust indicies to create the second code\n",
    "    idxs[1,:] += args.num_categ//2\n",
    "\n",
    "    #when the same code is in both the first and second slot, change to a one-hot vector\n",
    "    for i in range(args.train_batch_size):\n",
    "        if(idxs[0,i]+args.num_categ//2 == idxs[1,i]):\n",
    "\n",
    "            #randomize whether the 1 goes in the first or second slot\n",
    "            if (np.random.randint(2) == 0):\n",
    "                idxs[0,i] = idxs[1,i]\n",
    "            else:\n",
    "                idxs[1,i] = idxs[0,i]\n",
    "                \n",
    "    c[np.arange(args.train_batch_size), idxs] = 1\n",
    "    return c"
   ]
  },
  {
   "cell_type": "code",
   "execution_count": 80,
   "metadata": {},
   "outputs": [
    {
     "name": "stdout",
     "output_type": "stream",
     "text": [
      "[[0. 0. 1. 1. 0. 0.]\n",
      " [0. 0. 0. 1. 0. 0.]\n",
      " [1. 0. 0. 0. 1. 0.]\n",
      " [1. 0. 0. 0. 0. 1.]\n",
      " [1. 0. 0. 0. 0. 0.]]\n"
     ]
    }
   ],
   "source": [
    "print(random_c())"
   ]
  }
 ],
 "metadata": {
  "kernelspec": {
   "display_name": "Python 3 (ipykernel)",
   "language": "python",
   "name": "python3"
  },
  "language_info": {
   "codemirror_mode": {
    "name": "ipython",
    "version": 3
   },
   "file_extension": ".py",
   "mimetype": "text/x-python",
   "name": "python",
   "nbconvert_exporter": "python",
   "pygments_lexer": "ipython3",
   "version": "3.9.12"
  },
  "vscode": {
   "interpreter": {
    "hash": "26de051ba29f2982a8de78e945f0abaf191376122a1563185a90213a26c5da77"
   }
  }
 },
 "nbformat": 4,
 "nbformat_minor": 2
}
